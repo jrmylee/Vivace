{
 "cells": [
  {
   "cell_type": "code",
   "execution_count": 37,
   "metadata": {},
   "outputs": [],
   "source": [
    "import librosa\n",
    "import numpy as np\n",
    "import matplotlib.pyplot as plt"
   ]
  },
  {
   "cell_type": "code",
   "execution_count": 15,
   "metadata": {},
   "outputs": [],
   "source": [
    "x, sr = librosa.load('/Users/jrmylee/Documents/dev/projects/mir/research/decreasing.aif')\n",
    "win = sr * 3\n",
    "lx = len(x)\n",
    "xp_len = int(np.ceil(lx/win)) * win\n",
    "x.resize(xp_len)"
   ]
  },
  {
   "cell_type": "code",
   "execution_count": 25,
   "metadata": {},
   "outputs": [],
   "source": [
    "x_chunks = x.reshape((len(x) // (sr * 3), (sr * 3)))"
   ]
  },
  {
   "cell_type": "code",
   "execution_count": 26,
   "metadata": {},
   "outputs": [],
   "source": [
    "tempos = []\n",
    "for xc in x_chunks:\n",
    "    onsets = librosa.onset.onset_strength(y=xc,sr=sr)\n",
    "    tempo = librosa.beat.tempo(onset_envelope=onsets, sr=sr)\n",
    "    tempos.append(tempo[0])"
   ]
  },
  {
   "cell_type": "code",
   "execution_count": 27,
   "metadata": {},
   "outputs": [
    {
     "name": "stdout",
     "output_type": "stream",
     "text": [
      "[129.19921875, 129.19921875, 117.45383522727273, 117.45383522727273, 99.38401442307692, 99.38401442307692, 89.10290948275862, 83.35433467741936, 78.30255681818181, 69.83741554054055, 69.83741554054055, 61.5234375]\n"
     ]
    }
   ],
   "source": [
    "print(tempos)"
   ]
  },
  {
   "cell_type": "code",
   "execution_count": 11,
   "metadata": {},
   "outputs": [
    {
     "data": {
      "text/plain": [
       "66150"
      ]
     },
     "execution_count": 11,
     "metadata": {},
     "output_type": "execute_result"
    }
   ],
   "source": [
    "sr * 3"
   ]
  },
  {
   "cell_type": "code",
   "execution_count": 12,
   "metadata": {},
   "outputs": [
    {
     "data": {
      "text/plain": [
       "12.0"
      ]
     },
     "execution_count": 12,
     "metadata": {},
     "output_type": "execute_result"
    }
   ],
   "source": [
    "len(x) / (sr * 3)"
   ]
  },
  {
   "cell_type": "code",
   "execution_count": 32,
   "metadata": {},
   "outputs": [],
   "source": [
    "def load_song(path_to, win_len=3):\n",
    "    x, sr = librosa.load(path_to)\n",
    "    win = sr * win_len\n",
    "    lx = len(x)\n",
    "    xp_len = int(np.ceil(lx/win)) * win\n",
    "    x.resize(xp_len)\n",
    "    x_chunks = x.reshape((len(x) // (sr * 3), (sr * 3)))\n",
    "    return x_chunks\n",
    "\n",
    "def tempo_analysis(x_chunks):\n",
    "    tempos = []\n",
    "    for xc in x_chunks:\n",
    "        onsets = librosa.onset.onset_strength(y=xc,sr=sr)\n",
    "        tempo = librosa.beat.tempo(onset_envelope=onsets, sr=sr)\n",
    "        tempos.append(np.floor(tempo[0]))\n",
    "    return tempos"
   ]
  },
  {
   "cell_type": "code",
   "execution_count": 57,
   "metadata": {},
   "outputs": [],
   "source": [
    "increasing = load_song('/Users/jrmylee/Documents/dev/projects/mir/research/up_down.aif')\n",
    "mapping = {\n",
    "    'increasing' : increasing\n",
    "}\n",
    "increasing_tempo = tempo_analysis(mapping['increasing'])"
   ]
  },
  {
   "cell_type": "code",
   "execution_count": 58,
   "metadata": {},
   "outputs": [
    {
     "name": "stdout",
     "output_type": "stream",
     "text": [
      "[0.0000000e+00 0.0000000e+00 0.0000000e+00 0.0000000e+00 0.0000000e+00\n",
      " 0.0000000e+00 0.0000000e+00 0.0000000e+00 0.0000000e+00 0.0000000e+00\n",
      " 0.0000000e+00 0.0000000e+00 0.0000000e+00 0.0000000e+00 0.0000000e+00\n",
      " 0.0000000e+00 0.0000000e+00 0.0000000e+00 0.0000000e+00 0.0000000e+00\n",
      " 0.0000000e+00 0.0000000e+00 0.0000000e+00 0.0000000e+00 0.0000000e+00\n",
      " 0.0000000e+00 0.0000000e+00 0.0000000e+00 0.0000000e+00 0.0000000e+00\n",
      " 0.0000000e+00 0.0000000e+00 0.0000000e+00 0.0000000e+00 0.0000000e+00\n",
      " 0.0000000e+00 8.8492613e+00 4.0566673e+00 2.8211145e+00 8.5113198e-03\n",
      " 1.5845895e-03 0.0000000e+00 0.0000000e+00 0.0000000e+00 0.0000000e+00\n",
      " 0.0000000e+00 0.0000000e+00 0.0000000e+00 0.0000000e+00 0.0000000e+00\n",
      " 0.0000000e+00 0.0000000e+00 0.0000000e+00 0.0000000e+00 0.0000000e+00\n",
      " 0.0000000e+00 0.0000000e+00 0.0000000e+00 0.0000000e+00 0.0000000e+00\n",
      " 0.0000000e+00 0.0000000e+00 0.0000000e+00 0.0000000e+00 0.0000000e+00\n",
      " 0.0000000e+00 0.0000000e+00 0.0000000e+00 0.0000000e+00 0.0000000e+00\n",
      " 0.0000000e+00 0.0000000e+00 0.0000000e+00 0.0000000e+00 0.0000000e+00\n",
      " 0.0000000e+00 0.0000000e+00 0.0000000e+00 0.0000000e+00 0.0000000e+00\n",
      " 8.5739536e+00 4.1198087e+00 2.8966274e+00 1.2531608e-02 4.4652522e-03\n",
      " 0.0000000e+00 0.0000000e+00 0.0000000e+00 0.0000000e+00 0.0000000e+00\n",
      " 0.0000000e+00 0.0000000e+00 0.0000000e+00 0.0000000e+00 0.0000000e+00\n",
      " 0.0000000e+00 0.0000000e+00 0.0000000e+00 0.0000000e+00 0.0000000e+00\n",
      " 0.0000000e+00 0.0000000e+00 0.0000000e+00 0.0000000e+00 0.0000000e+00\n",
      " 0.0000000e+00 0.0000000e+00 0.0000000e+00 0.0000000e+00 0.0000000e+00\n",
      " 0.0000000e+00 0.0000000e+00 0.0000000e+00 0.0000000e+00 0.0000000e+00\n",
      " 0.0000000e+00 0.0000000e+00 0.0000000e+00 0.0000000e+00 0.0000000e+00\n",
      " 0.0000000e+00 0.0000000e+00 6.8173838e+00 4.9004736e+00 3.3861494e+00\n",
      " 2.4187791e-01 0.0000000e+00 0.0000000e+00 0.0000000e+00 0.0000000e+00]\n",
      "[58.]\n"
     ]
    }
   ],
   "source": [
    "onsets = librosa.onset.onset_strength(y=mapping['increasing'][0])\n",
    "print(onsets)\n",
    "tempo = librosa.beat.tempo(onset_envelope=onsets, sr=sr)\n",
    "print(np.floor(tempo))\n"
   ]
  },
  {
   "cell_type": "code",
   "execution_count": 41,
   "metadata": {},
   "outputs": [
    {
     "data": {
      "text/plain": [
       "[<matplotlib.lines.Line2D at 0x7feab684dc90>]"
      ]
     },
     "execution_count": 41,
     "metadata": {},
     "output_type": "execute_result"
    },
    {
     "data": {
      "image/png": "[encoded data removed]",
      "text/plain": [
       "<Figure size 432x288 with 1 Axes>"
      ]
     },
     "metadata": {
      "needs_background": "light"
     },
     "output_type": "display_data"
    }
   ],
   "source": [
    "x_labels = ['0-3', '3-6', '6-9', '9-12', '12-15', '15-18', '18-21', '21-24', '24-27', '27-30', '30-33', '33-36', '36-39', '39-42']\n",
    "plt.plot(x_labels, increasing_tempo)"
   ]
  },
  {
   "cell_type": "code",
   "execution_count": 35,
   "metadata": {},
   "outputs": [],
   "source": [
    "upndown = load_song('/Users/jrmylee/Documents/dev/projects/mir/research/up_down.aif')\n",
    "upndown_tempo = tempo_analysis(upndown)"
   ]
  },
  {
   "cell_type": "code",
   "execution_count": 46,
   "metadata": {},
   "outputs": [
    {
     "name": "stdout",
     "output_type": "stream",
     "text": [
      "[58.0, 78.0, 80.0, 69.0, 69.0, 89.0, 78.0, 99.0, 92.0, 89.0, 107.0, 107.0, 99.0, 117.0, 117.0, 107.0, 129.0, 129.0]\n",
      "22050\n"
     ]
    }
   ],
   "source": [
    "print(upndown_tempo)\n",
    "print(sr)"
   ]
  },
  {
   "cell_type": "code",
   "execution_count": 39,
   "metadata": {},
   "outputs": [
    {
     "data": {
      "text/plain": [
       "[<matplotlib.lines.Line2D at 0x7feab593af90>]"
      ]
     },
     "execution_count": 39,
     "metadata": {},
     "output_type": "execute_result"
    },
    {
     "data": {
      "image/png": "[encoded data removed]",
      "text/plain": [
       "<Figure size 432x288 with 1 Axes>"
      ]
     },
     "metadata": {
      "needs_background": "light"
     },
     "output_type": "display_data"
    }
   ],
   "source": [
    "x_labels = ['0-3', '3-6', '6-9', '9-12', '12-15', '15-18', '18-21', '21-24', '24-27', '27-30', '30-33', '33-36', '36-39', '39-42', '42-45', '45-48', '48-51', '51-54']\n",
    "plt.plot(x_labels, upndown_tempo)"
   ]
  },
  {
   "cell_type": "code",
   "execution_count": 42,
   "metadata": {},
   "outputs": [],
   "source": [
    "decreasing = load_song('/Users/jrmylee/Documents/dev/projects/mir/research/decreasing.aif')\n",
    "decreasing_tempo = tempo_analysis(decreasing)"
   ]
  },
  {
   "cell_type": "code",
   "execution_count": 43,
   "metadata": {},
   "outputs": [
    {
     "name": "stdout",
     "output_type": "stream",
     "text": [
      "12\n"
     ]
    }
   ],
   "source": [
    "print(len(decreasing_tempo))"
   ]
  },
  {
   "cell_type": "code",
   "execution_count": 44,
   "metadata": {},
   "outputs": [
    {
     "data": {
      "text/plain": [
       "[<matplotlib.lines.Line2D at 0x7feab68ddc90>]"
      ]
     },
     "execution_count": 44,
     "metadata": {},
     "output_type": "execute_result"
    },
    {
     "data": {
      "image/png": "[encoded data removed]",
      "text/plain": [
       "<Figure size 432x288 with 1 Axes>"
      ]
     },
     "metadata": {
      "needs_background": "light"
     },
     "output_type": "display_data"
    }
   ],
   "source": [
    "x_labels = ['0-3', '3-6', '6-9', '9-12', '12-15', '15-18', '18-21', '21-24', '24-27', '27-30', '30-33', '33-36']\n",
    "plt.plot(x_labels, decreasing_tempo)"
   ]
  },
  {
   "cell_type": "code",
   "execution_count": 47,
   "metadata": {},
   "outputs": [
    {
     "name": "stdout",
     "output_type": "stream",
     "text": [
      "[129.0, 129.0, 117.0, 117.0, 99.0, 99.0, 89.0, 83.0, 78.0, 69.0, 69.0, 61.0]\n"
     ]
    }
   ],
   "source": [
    "print(decreasing_tempo)"
   ]
  },
  {
   "cell_type": "code",
   "execution_count": null,
   "metadata": {},
   "outputs": [],
   "source": []
  }
 ],
 "metadata": {
  "kernelspec": {
   "display_name": "Python 3",
   "language": "python",
   "name": "python3"
  },
  "language_info": {
   "codemirror_mode": {
    "name": "ipython",
    "version": 3
   },
   "file_extension": ".py",
   "mimetype": "text/x-python",
   "name": "python",
   "nbconvert_exporter": "python",
   "pygments_lexer": "ipython3",
   "version": "3.7.6"
  }
 },
 "nbformat": 4,
 "nbformat_minor": 4
}
