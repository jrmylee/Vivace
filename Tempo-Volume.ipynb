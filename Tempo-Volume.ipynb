{
 "cells": [
  {
   "cell_type": "code",
   "execution_count": 60,
   "metadata": {},
   "outputs": [],
   "source": [
    "import numpy as np\n",
    "import matplotlib.pyplot as plt\n",
    "import IPython.display as ipd\n",
    "import sys\n",
    "import pandas as pd\n",
    "from os import listdir\n",
    "from os.path import isfile, join"
   ]
  },
  {
   "cell_type": "code",
   "execution_count": 102,
   "metadata": {},
   "outputs": [],
   "source": [
    "beat_dyn = pd.read_csv('./csvs/M06-1beat_dynNORM.csv')\n",
    "beat_time = pd.read_csv('./csvs/M06-1beat_time.csv')"
   ]
  },
  {
   "cell_type": "code",
   "execution_count": 113,
   "metadata": {},
   "outputs": [
    {
     "data": {
      "text/plain": [
       "0.4801203006231453"
      ]
     },
     "execution_count": 113,
     "metadata": {},
     "output_type": "execute_result"
    }
   ],
   "source": [
    "np.array(beat_dyn['pid1263-01']).mean()"
   ]
  },
  {
   "cell_type": "code",
   "execution_count": 23,
   "metadata": {},
   "outputs": [],
   "source": [
    "time = np.array(beat_time['pid1263-01'])[336] // 60\n",
    "num_beats = len(beat_time)\n",
    "tempo = num_beats // time"
   ]
  },
  {
   "cell_type": "code",
   "execution_count": 24,
   "metadata": {},
   "outputs": [
    {
     "data": {
      "text/plain": [
       "112.0"
      ]
     },
     "execution_count": 24,
     "metadata": {},
     "output_type": "execute_result"
    }
   ],
   "source": [
    "tempo"
   ]
  },
  {
   "cell_type": "code",
   "execution_count": 58,
   "metadata": {},
   "outputs": [],
   "source": [
    "pianist_mapping = pd.read_csv('./pianistID_name.csv')\n",
    "mazurka_mapping = pd.read_csv('./mazurka-discography.csv', sep='\\t')"
   ]
  },
  {
   "cell_type": "code",
   "execution_count": 51,
   "metadata": {},
   "outputs": [],
   "source": [
    "pianist_dict = dict(pianist_mapping.to_dict('split')['data'])"
   ]
  },
  {
   "cell_type": "code",
   "execution_count": 59,
   "metadata": {},
   "outputs": [
    {
     "data": {
      "text/html": [
       "<div>\n",
       "<style scoped>\n",
       "    .dataframe tbody tr th:only-of-type {\n",
       "        vertical-align: middle;\n",
       "    }\n",
       "\n",
       "    .dataframe tbody tr th {\n",
       "        vertical-align: top;\n",
       "    }\n",
       "\n",
       "    .dataframe thead th {\n",
       "        text-align: right;\n",
       "    }\n",
       "</style>\n",
       "<table border=\"1\" class=\"dataframe\">\n",
       "  <thead>\n",
       "    <tr style=\"text-align: right;\">\n",
       "      <th></th>\n",
       "      <th>opus</th>\n",
       "      <th>key</th>\n",
       "      <th>performer</th>\n",
       "      <th>year</th>\n",
       "      <th>time</th>\n",
       "      <th>seconds</th>\n",
       "      <th>label</th>\n",
       "      <th>pid</th>\n",
       "      <th>status</th>\n",
       "    </tr>\n",
       "  </thead>\n",
       "  <tbody>\n",
       "    <tr>\n",
       "      <th>0</th>\n",
       "      <td>6.1</td>\n",
       "      <td>F# min</td>\n",
       "      <td>Ashkenazy</td>\n",
       "      <td>1981</td>\n",
       "      <td>3:14</td>\n",
       "      <td>194</td>\n",
       "      <td>Decca 448 086-2</td>\n",
       "      <td>9058-01</td>\n",
       "      <td>-</td>\n",
       "    </tr>\n",
       "    <tr>\n",
       "      <th>1</th>\n",
       "      <td>6.1</td>\n",
       "      <td>F# min</td>\n",
       "      <td>Bacha</td>\n",
       "      <td>1997</td>\n",
       "      <td>2:46</td>\n",
       "      <td>166</td>\n",
       "      <td>Forlane 126817</td>\n",
       "      <td>9166c-03</td>\n",
       "      <td>-</td>\n",
       "    </tr>\n",
       "    <tr>\n",
       "      <th>2</th>\n",
       "      <td>6.1</td>\n",
       "      <td>F# min</td>\n",
       "      <td>Barbosa</td>\n",
       "      <td>1983</td>\n",
       "      <td>2:30</td>\n",
       "      <td>150</td>\n",
       "      <td>Centaur CRC2098/9</td>\n",
       "      <td>9174-01</td>\n",
       "      <td>-</td>\n",
       "    </tr>\n",
       "    <tr>\n",
       "      <th>3</th>\n",
       "      <td>6.1</td>\n",
       "      <td>F# min</td>\n",
       "      <td>Biret</td>\n",
       "      <td>1990</td>\n",
       "      <td>3:29</td>\n",
       "      <td>209</td>\n",
       "      <td>Naxos 8.550359</td>\n",
       "      <td>9062-01</td>\n",
       "      <td>-</td>\n",
       "    </tr>\n",
       "    <tr>\n",
       "      <th>4</th>\n",
       "      <td>6.1</td>\n",
       "      <td>F# min</td>\n",
       "      <td>Blet</td>\n",
       "      <td>2003</td>\n",
       "      <td>3:31</td>\n",
       "      <td>211</td>\n",
       "      <td>Marcal MA030501</td>\n",
       "      <td>9103-01</td>\n",
       "      <td>-</td>\n",
       "    </tr>\n",
       "    <tr>\n",
       "      <th>...</th>\n",
       "      <td>...</td>\n",
       "      <td>...</td>\n",
       "      <td>...</td>\n",
       "      <td>...</td>\n",
       "      <td>...</td>\n",
       "      <td>...</td>\n",
       "      <td>...</td>\n",
       "      <td>...</td>\n",
       "      <td>...</td>\n",
       "    </tr>\n",
       "    <tr>\n",
       "      <th>2726</th>\n",
       "      <td>68.4</td>\n",
       "      <td>F min</td>\n",
       "      <td>Sofronitsky</td>\n",
       "      <td>1961</td>\n",
       "      <td>1:44</td>\n",
       "      <td>104</td>\n",
       "      <td>Classound 001-026</td>\n",
       "      <td>9113-14</td>\n",
       "      <td>-</td>\n",
       "    </tr>\n",
       "    <tr>\n",
       "      <th>2727</th>\n",
       "      <td>68.4</td>\n",
       "      <td>F min</td>\n",
       "      <td>Sztompka</td>\n",
       "      <td>1959</td>\n",
       "      <td>2:03</td>\n",
       "      <td>123</td>\n",
       "      <td>Muza PNOD 313 A/B</td>\n",
       "      <td>9170b-22</td>\n",
       "      <td>-</td>\n",
       "    </tr>\n",
       "    <tr>\n",
       "      <th>2728</th>\n",
       "      <td>68.4</td>\n",
       "      <td>F min</td>\n",
       "      <td>Uninsky</td>\n",
       "      <td>1959</td>\n",
       "      <td>2:01</td>\n",
       "      <td>121</td>\n",
       "      <td>Philips 442 574-2</td>\n",
       "      <td>9061b-17</td>\n",
       "      <td>-</td>\n",
       "    </tr>\n",
       "    <tr>\n",
       "      <th>2729</th>\n",
       "      <td>68.4</td>\n",
       "      <td>F min</td>\n",
       "      <td>Vardi</td>\n",
       "      <td>1988</td>\n",
       "      <td>3:26</td>\n",
       "      <td>206</td>\n",
       "      <td>Carriere Classics 21.0017</td>\n",
       "      <td>9173-23</td>\n",
       "      <td>-</td>\n",
       "    </tr>\n",
       "    <tr>\n",
       "      <th>2730</th>\n",
       "      <td>68.4</td>\n",
       "      <td>F min</td>\n",
       "      <td>Wasowski</td>\n",
       "      <td>1980</td>\n",
       "      <td>2:38</td>\n",
       "      <td>158</td>\n",
       "      <td>Concord CCD-42036</td>\n",
       "      <td>9111b-22</td>\n",
       "      <td>-</td>\n",
       "    </tr>\n",
       "  </tbody>\n",
       "</table>\n",
       "<p>2731 rows × 9 columns</p>\n",
       "</div>"
      ],
      "text/plain": [
       "      opus     key    performer  year  time  seconds  \\\n",
       "0      6.1  F# min    Ashkenazy  1981  3:14      194   \n",
       "1      6.1  F# min        Bacha  1997  2:46      166   \n",
       "2      6.1  F# min      Barbosa  1983  2:30      150   \n",
       "3      6.1  F# min        Biret  1990  3:29      209   \n",
       "4      6.1  F# min         Blet  2003  3:31      211   \n",
       "...    ...     ...          ...   ...   ...      ...   \n",
       "2726  68.4   F min  Sofronitsky  1961  1:44      104   \n",
       "2727  68.4   F min     Sztompka  1959  2:03      123   \n",
       "2728  68.4   F min      Uninsky  1959  2:01      121   \n",
       "2729  68.4   F min        Vardi  1988  3:26      206   \n",
       "2730  68.4   F min     Wasowski  1980  2:38      158   \n",
       "\n",
       "                          label       pid status  \n",
       "0               Decca 448 086-2   9058-01      -  \n",
       "1                Forlane 126817  9166c-03      -  \n",
       "2             Centaur CRC2098/9   9174-01      -  \n",
       "3                Naxos 8.550359   9062-01      -  \n",
       "4               Marcal MA030501   9103-01      -  \n",
       "...                         ...       ...    ...  \n",
       "2726         Classound 001-026    9113-14      -  \n",
       "2727          Muza PNOD 313 A/B  9170b-22      -  \n",
       "2728          Philips 442 574-2  9061b-17      -  \n",
       "2729  Carriere Classics 21.0017   9173-23      -  \n",
       "2730          Concord CCD-42036  9111b-22      -  \n",
       "\n",
       "[2731 rows x 9 columns]"
      ]
     },
     "execution_count": 59,
     "metadata": {},
     "output_type": "execute_result"
    }
   ],
   "source": [
    "mazurka_mapping"
   ]
  },
  {
   "cell_type": "code",
   "execution_count": 75,
   "metadata": {},
   "outputs": [],
   "source": [
    "def load_dir(path):\n",
    "    files = os.listdir(path)\n",
    "    return files\n",
    "\n",
    "# piece is in form op-no\n",
    "# ie: \"06-1\" for opus 6 no 1\n",
    "def load_mazurka(piece):\n",
    "    dyn_file = f'M{piece}beat_dynNORM.csv'\n",
    "    beat_file = f'M{piece}beat_time.csv'\n",
    "    beat_dyn = pd.read_csv(f'./csvs/beat_dyn/{dyn_file}')\n",
    "    beat_time = pd.read_csv(f'./csvs/beat_time/{beat_file}')\n",
    "    return (beat_dyn, beat_time)"
   ]
  },
  {
   "cell_type": "code",
   "execution_count": 97,
   "metadata": {},
   "outputs": [],
   "source": [
    "beat_dyn, beat_time = load_mazurka('06-2')\n"
   ]
  },
  {
   "cell_type": "code",
   "execution_count": 150,
   "metadata": {},
   "outputs": [],
   "source": [
    "# Mazurka is response from load_mazurka(beat_dyn, beat_time)\n",
    "def get_pianist_data(mazurka, pianist_name):\n",
    "    pid = f'pid{pianist_dict[pianist_name]}'\n",
    "    dyn, time = mazurka\n",
    "    piece_pids = list(dyn)\n",
    "    for i in range(len(piece_pids)):\n",
    "        piece_pid = piece_pids[i]\n",
    "        if piece_pid.startswith(pid):\n",
    "            piece_time, dyn_time = time[piece_pid], dyn[piece_pid]\n",
    "            \n",
    "            avg_dyn = np.array(dyn_time).mean()\n",
    "            print(pid)\n",
    "            num_beats = len(piece_time)\n",
    "            piece_length = np.array(piece_time)[num_beats - 1] / 60\n",
    "            tempo = num_beats // piece_length\n",
    "            \n",
    "            return (tempo, avg_dyn)\n",
    "    print(\"No performer found!\")\n",
    "    return None"
   ]
  },
  {
   "cell_type": "code",
   "execution_count": 151,
   "metadata": {},
   "outputs": [
    {
     "name": "stdout",
     "output_type": "stream",
     "text": [
      "pid9173\n"
     ]
    }
   ],
   "source": [
    "m06_2 = load_mazurka('06-2')\n",
    "vardi_dyn = get_pianist_data(m06_2, \"Vardi\")"
   ]
  },
  {
   "cell_type": "code",
   "execution_count": 152,
   "metadata": {},
   "outputs": [
    {
     "data": {
      "text/plain": [
       "(111.0, 0.4701404027187501)"
      ]
     },
     "execution_count": 152,
     "metadata": {},
     "output_type": "execute_result"
    }
   ],
   "source": [
    "vardi_dyn"
   ]
  },
  {
   "cell_type": "code",
   "execution_count": 133,
   "metadata": {},
   "outputs": [],
   "source": [
    "def plot_performance(data):\n",
    "    plt.ylabel('Volume(sones)')\n",
    "    plt.xlabel('Tempo(bpm)')\n",
    "    plt.plot(data[0], data[1], 'ro')"
   ]
  },
  {
   "cell_type": "code",
   "execution_count": 157,
   "metadata": {},
   "outputs": [
    {
     "data": {
      "image/png": "[encoded data removed]",
      "text/plain": [
       "<Figure size 432x288 with 1 Axes>"
      ]
     },
     "metadata": {
      "needs_background": "light"
     },
     "output_type": "display_data"
    }
   ],
   "source": [
    "plot_performance(vardi_dyn)"
   ]
  },
  {
   "cell_type": "code",
   "execution_count": 159,
   "metadata": {},
   "outputs": [
    {
     "name": "stdout",
     "output_type": "stream",
     "text": [
      "No performer found!\n"
     ]
    }
   ],
   "source": [
    "biret_dyn = get_pianist_data(m06_2, \"Cortot\")"
   ]
  },
  {
   "cell_type": "code",
   "execution_count": 156,
   "metadata": {},
   "outputs": [
    {
     "data": {
      "text/plain": [
       "(113.0, 0.5278965523958333)"
      ]
     },
     "execution_count": 156,
     "metadata": {},
     "output_type": "execute_result"
    }
   ],
   "source": [
    "biret_dyn"
   ]
  },
  {
   "cell_type": "code",
   "execution_count": 158,
   "metadata": {},
   "outputs": [
    {
     "data": {
      "image/png": "[encoded data removed]",
      "text/plain": [
       "<Figure size 432x288 with 1 Axes>"
      ]
     },
     "metadata": {
      "needs_background": "light"
     },
     "output_type": "display_data"
    }
   ],
   "source": [
    "plot_performance(biret_dyn)"
   ]
  },
  {
   "cell_type": "code",
   "execution_count": null,
   "metadata": {},
   "outputs": [],
   "source": []
  }
 ],
 "metadata": {
  "kernelspec": {
   "display_name": "Python 3",
   "language": "python",
   "name": "python3"
  },
  "language_info": {
   "codemirror_mode": {
    "name": "ipython",
    "version": 3
   },
   "file_extension": ".py",
   "mimetype": "text/x-python",
   "name": "python",
   "nbconvert_exporter": "python",
   "pygments_lexer": "ipython3",
   "version": "3.7.6"
  }
 },
 "nbformat": 4,
 "nbformat_minor": 4
}
