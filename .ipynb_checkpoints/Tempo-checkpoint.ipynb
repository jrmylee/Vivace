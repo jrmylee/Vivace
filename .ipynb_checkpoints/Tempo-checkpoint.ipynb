{
 "cells": [
  {
   "cell_type": "code",
   "execution_count": 62,
   "metadata": {},
   "outputs": [],
   "source": [
    "import numpy as np\n",
    "from collections import OrderedDict\n",
    "import math\n",
    "from scipy.signal import medfilt\n",
    "import librosa\n",
    "from sklearn.metrics import mean_squared_error\n",
    "import matplotlib.pyplot as plt"
   ]
  },
  {
   "cell_type": "code",
   "execution_count": 31,
   "metadata": {},
   "outputs": [],
   "source": [
    "ramp1, sr = librosa.load(\"samples/ramp1.aif\")\n",
    "ramp1 = ramp1[0 : 8 * sr]\n",
    "\n",
    "tempo_sr = 1000 # sample tempo every 1ms"
   ]
  },
  {
   "cell_type": "code",
   "execution_count": 32,
   "metadata": {},
   "outputs": [],
   "source": [
    "def global_tempo(signal, sr):\n",
    "    onset_env = librosa.onset.onset_strength(y=signal, sr=sr)\n",
    "    tempo = librosa.beat.tempo(onset_envelope=onset_env, sr=sr)\n",
    "    return tempo[0]"
   ]
  },
  {
   "cell_type": "code",
   "execution_count": 59,
   "metadata": {},
   "outputs": [],
   "source": [
    "ramp1_gt = [60, 120, 1000, 90, 1000, 180, 2000, 60, 3000, 30, 1000]\n",
    "\n",
    "def tempo(song, sr):\n",
    "    three = [] # 3 tempo measurements\n",
    "    tempos = []\n",
    "    for i in range(len(song) // sr):\n",
    "        # get 1 ms of samples\n",
    "        \n",
    "        curr = ramp1[i * sr : i*sr + sr]\n",
    "        three.append(global_tempo(curr, sr))\n",
    "        tempos.append(global_tempo(curr,sr))\n",
    "#         if len(three) == 3:\n",
    "#             tempos.append(medfilt(three)[1])\n",
    "#             three = []\n",
    "    return tempos\n",
    "\n",
    "# groundtruth data is in format of [start, end, time(ms), end, time, end, time, etc...]\n",
    "# tempos is in the form [t1, t2, t3,...,tn], where ti is the tempo in window i\n",
    "def evaluate(gt, tempos, sr=22050, win_len=3):\n",
    "    start, end, time = gt[0], gt[1], gt[2] // 1000\n",
    "    gt_tempos = list(np.linspace(start,end, time + 1))\n",
    "    \n",
    "    if len(gt) > 3:\n",
    "        for i in range(3, len(gt)-1, 2):\n",
    "            start, end, time = end, gt[i], gt[i+1] // 1000\n",
    "            gt_tempos += list(np.linspace(start, end, time + 1))[1:]\n",
    "    gt_signal = [(gt_tempos[i] + gt_tempos[i+1]) / 2 for i in range(len(gt_tempos) - 1)]\n",
    "    error = mean_squared_error(gt_signal, tempos)\n",
    "    \n",
    "    return error, tempos, gt_signal"
   ]
  },
  {
   "cell_type": "code",
   "execution_count": 52,
   "metadata": {},
   "outputs": [],
   "source": [
    "ramp1_tempos = tempo(ramp1, sr)"
   ]
  },
  {
   "cell_type": "code",
   "execution_count": 56,
   "metadata": {},
   "outputs": [
    {
     "ename": "NameError",
     "evalue": "name 'mean' is not defined",
     "output_type": "error",
     "traceback": [
      "\u001b[0;31m---------------------------------------------------------------------------\u001b[0m",
      "\u001b[0;31mNameError\u001b[0m                                 Traceback (most recent call last)",
      "\u001b[0;32m<ipython-input-56-8d26be6ca611>\u001b[0m in \u001b[0;36m<module>\u001b[0;34m\u001b[0m\n\u001b[0;32m----> 1\u001b[0;31m \u001b[0mmean\u001b[0m\u001b[0;34m(\u001b[0m\u001b[0;36m1\u001b[0m\u001b[0;34m,\u001b[0m\u001b[0;36m2\u001b[0m\u001b[0;34m)\u001b[0m\u001b[0;34m\u001b[0m\u001b[0;34m\u001b[0m\u001b[0m\n\u001b[0m",
      "\u001b[0;31mNameError\u001b[0m: name 'mean' is not defined"
     ]
    }
   ],
   "source": [
    "mean(1,2)"
   ]
  },
  {
   "cell_type": "code",
   "execution_count": 60,
   "metadata": {},
   "outputs": [],
   "source": [
    "error, tempo_signal, gt_signal = evaluate(ramp1_gt, ramp1_tempos)"
   ]
  },
  {
   "cell_type": "code",
   "execution_count": 61,
   "metadata": {},
   "outputs": [
    {
     "data": {
      "text/plain": [
       "2211.898384409503"
      ]
     },
     "execution_count": 61,
     "metadata": {},
     "output_type": "execute_result"
    }
   ],
   "source": [
    "error"
   ]
  },
  {
   "cell_type": "code",
   "execution_count": 63,
   "metadata": {},
   "outputs": [
    {
     "data": {
      "text/plain": [
       "[<matplotlib.lines.Line2D at 0x7fd3c207bd90>]"
      ]
     },
     "execution_count": 63,
     "metadata": {},
     "output_type": "execute_result"
    },
    {
     "data": {
      "image/png": "[encoded data removed]",
      "text/plain": [
       "<Figure size 432x288 with 1 Axes>"
      ]
     },
     "metadata": {
      "needs_background": "light"
     },
     "output_type": "display_data"
    }
   ],
   "source": [
    "plt.plot(range(len(tempo_signal)), ramp1_tempos)"
   ]
  },
  {
   "cell_type": "code",
   "execution_count": 64,
   "metadata": {},
   "outputs": [
    {
     "data": {
      "text/plain": [
       "[<matplotlib.lines.Line2D at 0x7fd3c2143cd0>]"
      ]
     },
     "execution_count": 64,
     "metadata": {},
     "output_type": "execute_result"
    },
    {
     "data": {
      "image/png": "[encoded data removed]",
      "text/plain": [
       "<Figure size 432x288 with 1 Axes>"
      ]
     },
     "metadata": {
      "needs_background": "light"
     },
     "output_type": "display_data"
    }
   ],
   "source": [
    "plt.plot(range(len(gt_signal)), gt_signal)"
   ]
  },
  {
   "cell_type": "code",
   "execution_count": null,
   "metadata": {},
   "outputs": [],
   "source": []
  }
 ],
 "metadata": {
  "kernelspec": {
   "display_name": "Python 3",
   "language": "python",
   "name": "python3"
  },
  "language_info": {
   "codemirror_mode": {
    "name": "ipython",
    "version": 3
   },
   "file_extension": ".py",
   "mimetype": "text/x-python",
   "name": "python",
   "nbconvert_exporter": "python",
   "pygments_lexer": "ipython3",
   "version": "3.7.6"
  }
 },
 "nbformat": 4,
 "nbformat_minor": 4
}
