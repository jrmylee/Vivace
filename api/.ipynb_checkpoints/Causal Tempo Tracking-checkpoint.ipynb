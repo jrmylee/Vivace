{
 "cells": [
  {
   "cell_type": "code",
   "execution_count": 1,
   "metadata": {},
   "outputs": [],
   "source": [
    "import numpy as np\n",
    "import matplotlib.pyplot as plt\n",
    "import librosa\n",
    "import pandas as pd"
   ]
  },
  {
   "cell_type": "code",
   "execution_count": 2,
   "metadata": {},
   "outputs": [],
   "source": [
    "beat_time = pd.read_csv('./csvs/M06-1beat_time.csv')"
   ]
  },
  {
   "cell_type": "code",
   "execution_count": 3,
   "metadata": {},
   "outputs": [],
   "source": [
    "x = np.array(beat_time['pid1263-01'])"
   ]
  },
  {
   "cell_type": "code",
   "execution_count": null,
   "metadata": {},
   "outputs": [],
   "source": [
    "ac = np.correlate(y, y, mode=\"same\")\n",
    "\n",
    "plt.plot(np.arange(len(ac)), ac)"
   ]
  },
  {
   "cell_type": "code",
   "execution_count": null,
   "metadata": {},
   "outputs": [],
   "source": [
    "y"
   ]
  },
  {
   "cell_type": "code",
   "execution_count": null,
   "metadata": {},
   "outputs": [],
   "source": [
    "widmung = \"./phrasing/recordings/widmung/2.mp3\"\n",
    "y, sr = librosa.load(widmung)\n",
    "onset_env = librosa.onset.onset_strength(y)"
   ]
  },
  {
   "cell_type": "code",
   "execution_count": 9,
   "metadata": {},
   "outputs": [
    {
     "data": {
      "text/plain": [
       "[<matplotlib.lines.Line2D at 0x7fe46c60f9d0>]"
      ]
     },
     "execution_count": 9,
     "metadata": {},
     "output_type": "execute_result"
    },
    {
     "data": {
      "image/png": "[encoded data removed]",
      "text/plain": [
       "<Figure size 432x288 with 1 Axes>"
      ]
     },
     "metadata": {
      "needs_background": "light"
     },
     "output_type": "display_data"
    }
   ],
   "source": [
    "plt.plot(np.arange(100), onset_env[0:100])"
   ]
  },
  {
   "cell_type": "code",
   "execution_count": 4,
   "metadata": {},
   "outputs": [
    {
     "data": {
      "text/plain": [
       "[<matplotlib.lines.Line2D at 0x7fa1656d4d50>]"
      ]
     },
     "execution_count": 4,
     "metadata": {},
     "output_type": "execute_result"
    },
    {
     "data": {
      "image/png": "[encoded data removed]",
      "text/plain": [
       "<Figure size 432x288 with 1 Axes>"
      ]
     },
     "metadata": {
      "needs_background": "light"
     },
     "output_type": "display_data"
    }
   ],
   "source": [
    "import math\n",
    "# sample rate is 22050\n",
    "sr = 22050\n",
    "length = 200 * 22050 # length in samples\n",
    "x_transformed = np.zeros(length) #200 seconds\n",
    "delta = math.floor(.25 * 22050)\n",
    "\n",
    "for a in x:\n",
    "    sample_num = math.floor(a) * sr\n",
    "    top, bottom = min(length, sample_num + delta), max(0, sample_num - delta)\n",
    "    for i in range(bottom, top):\n",
    "        x_transformed[i] = 5\n",
    "\n",
    "plt.plot(np.arange(len(x_transformed)), x_transformed)"
   ]
  },
  {
   "cell_type": "code",
   "execution_count": 8,
   "metadata": {},
   "outputs": [],
   "source": [
    "first_ten = librosa.beat.tempo(onset_envelope=x_transformed[0: 10 * 22050], sr=sr, aggregate=None)"
   ]
  },
  {
   "cell_type": "code",
   "execution_count": 10,
   "metadata": {},
   "outputs": [
    {
     "data": {
      "text/plain": [
       "220500"
      ]
     },
     "execution_count": 10,
     "metadata": {},
     "output_type": "execute_result"
    }
   ],
   "source": [
    "len(first_ten)"
   ]
  },
  {
   "cell_type": "code",
   "execution_count": 11,
   "metadata": {},
   "outputs": [],
   "source": [
    "\"\"\" Estimate causal tempo from list of beat times at certain point in time\n",
    "Parameters \n",
    "----------\n",
    "beat_times : np.ndarray [shape=(n,)]\n",
    "    array of beat times\n",
    "\n",
    "time : number > 0\n",
    "    point in time to extract tempo\n",
    "    \n",
    "sr : number > 0\n",
    "    sampling rate\n",
    "\"\"\"\n",
    "def tempo(beat_times, time, sr=22050):\n",
    "    length = time * 22050 # length in samples\n",
    "    x_transformed = np.zeros(length) #200 seconds\n",
    "    delta = math.floor(.25 * 22050)\n",
    "\n",
    "    for a in beat_times:\n",
    "        if a > time:\n",
    "            break\n",
    "        sample_num = math.floor(a) * sr\n",
    "        top, bottom = min(length, sample_num + delta), max(0, sample_num - delta)\n",
    "        for i in range(bottom, top):\n",
    "            x_transformed[i] = 5\n",
    "    tempo = librosa.beat.tempo(onset_envelope=x_transformed, sr=sr)"
   ]
  },
  {
   "cell_type": "code",
   "execution_count": null,
   "metadata": {},
   "outputs": [],
   "source": []
  }
 ],
 "metadata": {
  "kernelspec": {
   "display_name": "Python 3",
   "language": "python",
   "name": "python3"
  },
  "language_info": {
   "codemirror_mode": {
    "name": "ipython",
    "version": 3
   },
   "file_extension": ".py",
   "mimetype": "text/x-python",
   "name": "python",
   "nbconvert_exporter": "python",
   "pygments_lexer": "ipython3",
   "version": "3.7.6"
  }
 },
 "nbformat": 4,
 "nbformat_minor": 4
}
